{
 "cells": [
  {
   "cell_type": "markdown",
   "id": "c94798e9",
   "metadata": {},
   "source": [
    "#### Problem statement\n",
    "\n",
    "- Based on the given financial data create a ML model to predict if   the client is high risk or low risk if we were to provide them loan.\n",
    "- We need to predict the column Risk_Flag and it contains value 1 if the client is  high risk else it will be 0.\n",
    " \n",
    "Perform all the various steps of machine learning like data exploration, feature engineering and model building.\n",
    " \n",
    "Create a PDF report and share it containing below details:\n",
    "- data vizualizations\n",
    "- data exploration insights\n",
    "- model performance\n",
    "- understand main deciding factors associated with risk"
   ]
  },
  {
   "cell_type": "markdown",
   "id": "d1419aca",
   "metadata": {},
   "source": [
    "#### Import the requried Libraires"
   ]
  },
  {
   "cell_type": "code",
   "execution_count": 1,
   "id": "e08be8ed",
   "metadata": {},
   "outputs": [],
   "source": [
    "import pandas as pd\n",
    "import numpy as np\n",
    "import seaborn as sns\n",
    "import matplotlib.pyplot as plt\n",
    "\n",
    "import warnings\n",
    "warnings.filterwarnings('ignore')"
   ]
  },
  {
   "cell_type": "markdown",
   "id": "01ab02cf",
   "metadata": {},
   "source": [
    "### Load the Data  "
   ]
  },
  {
   "cell_type": "code",
   "execution_count": 2,
   "id": "615a68da",
   "metadata": {},
   "outputs": [],
   "source": [
    "#Load the Data set from the json file\n",
    "df = pd.read_json('loan_approval_dataset.json')"
   ]
  },
  {
   "cell_type": "code",
   "execution_count": 3,
   "id": "b921b784",
   "metadata": {},
   "outputs": [
    {
     "data": {
      "text/html": [
       "<div>\n",
       "<style scoped>\n",
       "    .dataframe tbody tr th:only-of-type {\n",
       "        vertical-align: middle;\n",
       "    }\n",
       "\n",
       "    .dataframe tbody tr th {\n",
       "        vertical-align: top;\n",
       "    }\n",
       "\n",
       "    .dataframe thead th {\n",
       "        text-align: right;\n",
       "    }\n",
       "</style>\n",
       "<table border=\"1\" class=\"dataframe\">\n",
       "  <thead>\n",
       "    <tr style=\"text-align: right;\">\n",
       "      <th></th>\n",
       "      <th>Id</th>\n",
       "      <th>Income</th>\n",
       "      <th>Age</th>\n",
       "      <th>Experience</th>\n",
       "      <th>Married/Single</th>\n",
       "      <th>House_Ownership</th>\n",
       "      <th>Car_Ownership</th>\n",
       "      <th>Profession</th>\n",
       "      <th>CITY</th>\n",
       "      <th>STATE</th>\n",
       "      <th>CURRENT_JOB_YRS</th>\n",
       "      <th>CURRENT_HOUSE_YRS</th>\n",
       "      <th>Risk_Flag</th>\n",
       "    </tr>\n",
       "  </thead>\n",
       "  <tbody>\n",
       "    <tr>\n",
       "      <th>0</th>\n",
       "      <td>1</td>\n",
       "      <td>1303834</td>\n",
       "      <td>23</td>\n",
       "      <td>3</td>\n",
       "      <td>single</td>\n",
       "      <td>rented</td>\n",
       "      <td>no</td>\n",
       "      <td>Mechanical_engineer</td>\n",
       "      <td>Rewa</td>\n",
       "      <td>Madhya_Pradesh</td>\n",
       "      <td>3</td>\n",
       "      <td>13</td>\n",
       "      <td>0</td>\n",
       "    </tr>\n",
       "    <tr>\n",
       "      <th>1</th>\n",
       "      <td>2</td>\n",
       "      <td>7574516</td>\n",
       "      <td>40</td>\n",
       "      <td>10</td>\n",
       "      <td>single</td>\n",
       "      <td>rented</td>\n",
       "      <td>no</td>\n",
       "      <td>Software_Developer</td>\n",
       "      <td>Parbhani</td>\n",
       "      <td>Maharashtra</td>\n",
       "      <td>9</td>\n",
       "      <td>13</td>\n",
       "      <td>0</td>\n",
       "    </tr>\n",
       "    <tr>\n",
       "      <th>2</th>\n",
       "      <td>3</td>\n",
       "      <td>3991815</td>\n",
       "      <td>66</td>\n",
       "      <td>4</td>\n",
       "      <td>married</td>\n",
       "      <td>rented</td>\n",
       "      <td>no</td>\n",
       "      <td>Technical_writer</td>\n",
       "      <td>Alappuzha</td>\n",
       "      <td>Kerala</td>\n",
       "      <td>4</td>\n",
       "      <td>10</td>\n",
       "      <td>0</td>\n",
       "    </tr>\n",
       "    <tr>\n",
       "      <th>3</th>\n",
       "      <td>4</td>\n",
       "      <td>6256451</td>\n",
       "      <td>41</td>\n",
       "      <td>2</td>\n",
       "      <td>single</td>\n",
       "      <td>rented</td>\n",
       "      <td>yes</td>\n",
       "      <td>Software_Developer</td>\n",
       "      <td>Bhubaneswar</td>\n",
       "      <td>Odisha</td>\n",
       "      <td>2</td>\n",
       "      <td>12</td>\n",
       "      <td>1</td>\n",
       "    </tr>\n",
       "    <tr>\n",
       "      <th>4</th>\n",
       "      <td>5</td>\n",
       "      <td>5768871</td>\n",
       "      <td>47</td>\n",
       "      <td>11</td>\n",
       "      <td>single</td>\n",
       "      <td>rented</td>\n",
       "      <td>no</td>\n",
       "      <td>Civil_servant</td>\n",
       "      <td>Tiruchirappalli[10]</td>\n",
       "      <td>Tamil_Nadu</td>\n",
       "      <td>3</td>\n",
       "      <td>14</td>\n",
       "      <td>1</td>\n",
       "    </tr>\n",
       "  </tbody>\n",
       "</table>\n",
       "</div>"
      ],
      "text/plain": [
       "   Id   Income  Age  Experience Married/Single House_Ownership Car_Ownership  \\\n",
       "0   1  1303834   23           3         single          rented            no   \n",
       "1   2  7574516   40          10         single          rented            no   \n",
       "2   3  3991815   66           4        married          rented            no   \n",
       "3   4  6256451   41           2         single          rented           yes   \n",
       "4   5  5768871   47          11         single          rented            no   \n",
       "\n",
       "            Profession                 CITY           STATE  CURRENT_JOB_YRS  \\\n",
       "0  Mechanical_engineer                 Rewa  Madhya_Pradesh                3   \n",
       "1   Software_Developer             Parbhani     Maharashtra                9   \n",
       "2     Technical_writer            Alappuzha          Kerala                4   \n",
       "3   Software_Developer          Bhubaneswar          Odisha                2   \n",
       "4        Civil_servant  Tiruchirappalli[10]      Tamil_Nadu                3   \n",
       "\n",
       "   CURRENT_HOUSE_YRS  Risk_Flag  \n",
       "0                 13          0  \n",
       "1                 13          0  \n",
       "2                 10          0  \n",
       "3                 12          1  \n",
       "4                 14          1  "
      ]
     },
     "execution_count": 3,
     "metadata": {},
     "output_type": "execute_result"
    }
   ],
   "source": [
    "#display the first 5 rows\n",
    "df.head()"
   ]
  },
  {
   "cell_type": "code",
   "execution_count": 4,
   "id": "5dce54c0",
   "metadata": {},
   "outputs": [
    {
     "data": {
      "text/plain": [
       "(252000, 13)"
      ]
     },
     "execution_count": 4,
     "metadata": {},
     "output_type": "execute_result"
    }
   ],
   "source": [
    "df.shape"
   ]
  },
  {
   "cell_type": "code",
   "execution_count": 5,
   "id": "2b64850a",
   "metadata": {},
   "outputs": [
    {
     "name": "stdout",
     "output_type": "stream",
     "text": [
      "<class 'pandas.core.frame.DataFrame'>\n",
      "Index: 252000 entries, 0 to 251999\n",
      "Data columns (total 13 columns):\n",
      " #   Column             Non-Null Count   Dtype \n",
      "---  ------             --------------   ----- \n",
      " 0   Id                 252000 non-null  int64 \n",
      " 1   Income             252000 non-null  int64 \n",
      " 2   Age                252000 non-null  int64 \n",
      " 3   Experience         252000 non-null  int64 \n",
      " 4   Married/Single     252000 non-null  object\n",
      " 5   House_Ownership    252000 non-null  object\n",
      " 6   Car_Ownership      252000 non-null  object\n",
      " 7   Profession         252000 non-null  object\n",
      " 8   CITY               252000 non-null  object\n",
      " 9   STATE              252000 non-null  object\n",
      " 10  CURRENT_JOB_YRS    252000 non-null  int64 \n",
      " 11  CURRENT_HOUSE_YRS  252000 non-null  int64 \n",
      " 12  Risk_Flag          252000 non-null  int64 \n",
      "dtypes: int64(7), object(6)\n",
      "memory usage: 26.9+ MB\n"
     ]
    }
   ],
   "source": [
    "df.info()"
   ]
  },
  {
   "cell_type": "code",
   "execution_count": 6,
   "id": "08fd5df1",
   "metadata": {
    "scrolled": true
   },
   "outputs": [
    {
     "data": {
      "text/html": [
       "<div>\n",
       "<style scoped>\n",
       "    .dataframe tbody tr th:only-of-type {\n",
       "        vertical-align: middle;\n",
       "    }\n",
       "\n",
       "    .dataframe tbody tr th {\n",
       "        vertical-align: top;\n",
       "    }\n",
       "\n",
       "    .dataframe thead th {\n",
       "        text-align: right;\n",
       "    }\n",
       "</style>\n",
       "<table border=\"1\" class=\"dataframe\">\n",
       "  <thead>\n",
       "    <tr style=\"text-align: right;\">\n",
       "      <th></th>\n",
       "      <th>Id</th>\n",
       "      <th>Income</th>\n",
       "      <th>Age</th>\n",
       "      <th>Experience</th>\n",
       "      <th>CURRENT_JOB_YRS</th>\n",
       "      <th>CURRENT_HOUSE_YRS</th>\n",
       "      <th>Risk_Flag</th>\n",
       "    </tr>\n",
       "  </thead>\n",
       "  <tbody>\n",
       "    <tr>\n",
       "      <th>count</th>\n",
       "      <td>252000.000000</td>\n",
       "      <td>2.520000e+05</td>\n",
       "      <td>252000.000000</td>\n",
       "      <td>252000.000000</td>\n",
       "      <td>252000.000000</td>\n",
       "      <td>252000.000000</td>\n",
       "      <td>252000.000000</td>\n",
       "    </tr>\n",
       "    <tr>\n",
       "      <th>mean</th>\n",
       "      <td>126000.500000</td>\n",
       "      <td>4.997117e+06</td>\n",
       "      <td>49.954071</td>\n",
       "      <td>10.084437</td>\n",
       "      <td>6.333877</td>\n",
       "      <td>11.997794</td>\n",
       "      <td>0.123000</td>\n",
       "    </tr>\n",
       "    <tr>\n",
       "      <th>std</th>\n",
       "      <td>72746.278255</td>\n",
       "      <td>2.878311e+06</td>\n",
       "      <td>17.063855</td>\n",
       "      <td>6.002590</td>\n",
       "      <td>3.647053</td>\n",
       "      <td>1.399037</td>\n",
       "      <td>0.328438</td>\n",
       "    </tr>\n",
       "    <tr>\n",
       "      <th>min</th>\n",
       "      <td>1.000000</td>\n",
       "      <td>1.031000e+04</td>\n",
       "      <td>21.000000</td>\n",
       "      <td>0.000000</td>\n",
       "      <td>0.000000</td>\n",
       "      <td>10.000000</td>\n",
       "      <td>0.000000</td>\n",
       "    </tr>\n",
       "    <tr>\n",
       "      <th>25%</th>\n",
       "      <td>63000.750000</td>\n",
       "      <td>2.503015e+06</td>\n",
       "      <td>35.000000</td>\n",
       "      <td>5.000000</td>\n",
       "      <td>3.000000</td>\n",
       "      <td>11.000000</td>\n",
       "      <td>0.000000</td>\n",
       "    </tr>\n",
       "    <tr>\n",
       "      <th>50%</th>\n",
       "      <td>126000.500000</td>\n",
       "      <td>5.000694e+06</td>\n",
       "      <td>50.000000</td>\n",
       "      <td>10.000000</td>\n",
       "      <td>6.000000</td>\n",
       "      <td>12.000000</td>\n",
       "      <td>0.000000</td>\n",
       "    </tr>\n",
       "    <tr>\n",
       "      <th>75%</th>\n",
       "      <td>189000.250000</td>\n",
       "      <td>7.477502e+06</td>\n",
       "      <td>65.000000</td>\n",
       "      <td>15.000000</td>\n",
       "      <td>9.000000</td>\n",
       "      <td>13.000000</td>\n",
       "      <td>0.000000</td>\n",
       "    </tr>\n",
       "    <tr>\n",
       "      <th>max</th>\n",
       "      <td>252000.000000</td>\n",
       "      <td>9.999938e+06</td>\n",
       "      <td>79.000000</td>\n",
       "      <td>20.000000</td>\n",
       "      <td>14.000000</td>\n",
       "      <td>14.000000</td>\n",
       "      <td>1.000000</td>\n",
       "    </tr>\n",
       "  </tbody>\n",
       "</table>\n",
       "</div>"
      ],
      "text/plain": [
       "                  Id        Income            Age     Experience  \\\n",
       "count  252000.000000  2.520000e+05  252000.000000  252000.000000   \n",
       "mean   126000.500000  4.997117e+06      49.954071      10.084437   \n",
       "std     72746.278255  2.878311e+06      17.063855       6.002590   \n",
       "min         1.000000  1.031000e+04      21.000000       0.000000   \n",
       "25%     63000.750000  2.503015e+06      35.000000       5.000000   \n",
       "50%    126000.500000  5.000694e+06      50.000000      10.000000   \n",
       "75%    189000.250000  7.477502e+06      65.000000      15.000000   \n",
       "max    252000.000000  9.999938e+06      79.000000      20.000000   \n",
       "\n",
       "       CURRENT_JOB_YRS  CURRENT_HOUSE_YRS      Risk_Flag  \n",
       "count    252000.000000      252000.000000  252000.000000  \n",
       "mean          6.333877          11.997794       0.123000  \n",
       "std           3.647053           1.399037       0.328438  \n",
       "min           0.000000          10.000000       0.000000  \n",
       "25%           3.000000          11.000000       0.000000  \n",
       "50%           6.000000          12.000000       0.000000  \n",
       "75%           9.000000          13.000000       0.000000  \n",
       "max          14.000000          14.000000       1.000000  "
      ]
     },
     "execution_count": 6,
     "metadata": {},
     "output_type": "execute_result"
    }
   ],
   "source": [
    "df.describe()"
   ]
  },
  {
   "cell_type": "code",
   "execution_count": 7,
   "id": "62de5e65",
   "metadata": {},
   "outputs": [
    {
     "data": {
      "image/png": "[encoded data removed]",
      "text/plain": [
       "<Figure size 640x480 with 1 Axes>"
      ]
     },
     "metadata": {},
     "output_type": "display_data"
    }
   ],
   "source": [
    "# Distribution of Income\n",
    "sns.histplot(df['Income'], bins=50, kde=True)\n",
    "plt.title('Distribution of Income')\n",
    "plt.show()"
   ]
  },
  {
   "cell_type": "markdown",
   "id": "fce966f0",
   "metadata": {},
   "source": [
    "The column Risk_Flag,contains\n",
    "- value 1 if the client is high risk\n",
    "- Value 0 ,if the Client is Low Risk."
   ]
  },
  {
   "cell_type": "code",
   "execution_count": 8,
   "id": "e202f6b5",
   "metadata": {
    "scrolled": true
   },
   "outputs": [
    {
     "data": {
      "image/png": "[encoded data removed]",
      "text/plain": [
       "<Figure size 640x480 with 1 Axes>"
      ]
     },
     "metadata": {},
     "output_type": "display_data"
    }
   ],
   "source": [
    "##Data Distribution\n",
    "sns.countplot(x = 'Risk_Flag',data = df)\n",
    "plt.show()"
   ]
  },
  {
   "cell_type": "code",
   "execution_count": 9,
   "id": "14b99488",
   "metadata": {
    "scrolled": true
   },
   "outputs": [
    {
     "data": {
      "text/plain": [
       "Risk_Flag\n",
       "0    221004\n",
       "1     30996\n",
       "Name: count, dtype: int64"
      ]
     },
     "execution_count": 9,
     "metadata": {},
     "output_type": "execute_result"
    }
   ],
   "source": [
    "df['Risk_Flag'].value_counts()"
   ]
  },
  {
   "cell_type": "code",
   "execution_count": 10,
   "id": "1b7c2c1e",
   "metadata": {},
   "outputs": [
    {
     "data": {
      "text/plain": [
       "Married/Single\n",
       "single     226272\n",
       "married     25728\n",
       "Name: count, dtype: int64"
      ]
     },
     "execution_count": 10,
     "metadata": {},
     "output_type": "execute_result"
    }
   ],
   "source": [
    "##Data Distribution of Married/Single \n",
    "df['Married/Single'].value_counts()"
   ]
  },
  {
   "cell_type": "code",
   "execution_count": 11,
   "id": "0dffc2b3",
   "metadata": {},
   "outputs": [
    {
     "data": {
      "text/plain": [
       "House_Ownership\n",
       "rented          231898\n",
       "owned            12918\n",
       "norent_noown      7184\n",
       "Name: count, dtype: int64"
      ]
     },
     "execution_count": 11,
     "metadata": {},
     "output_type": "execute_result"
    }
   ],
   "source": [
    "##Data Distribution of 'House_Ownership'\n",
    "df['House_Ownership'].value_counts()"
   ]
  },
  {
   "cell_type": "code",
   "execution_count": 12,
   "id": "f4021c98",
   "metadata": {},
   "outputs": [
    {
     "data": {
      "text/plain": [
       "Car_Ownership\n",
       "no     176000\n",
       "yes     76000\n",
       "Name: count, dtype: int64"
      ]
     },
     "execution_count": 12,
     "metadata": {},
     "output_type": "execute_result"
    }
   ],
   "source": [
    "##Data Distribution of 'Car_Ownership '\n",
    "df['Car_Ownership'].value_counts()"
   ]
  },
  {
   "cell_type": "code",
   "execution_count": 15,
   "id": "c0f44ac6",
   "metadata": {},
   "outputs": [
    {
     "data": {
      "text/plain": [
       "Profession\n",
       "Physician                     5957\n",
       "Statistician                  5806\n",
       "Web_designer                  5397\n",
       "Psychologist                  5390\n",
       "Computer_hardware_engineer    5372\n",
       "Drafter                       5359\n",
       "Magistrate                    5357\n",
       "Fashion_Designer              5304\n",
       "Air_traffic_controller        5281\n",
       "Comedian                      5259\n",
       "Industrial_Engineer           5250\n",
       "Mechanical_engineer           5217\n",
       "Chemical_engineer             5205\n",
       "Technical_writer              5195\n",
       "Hotel_Manager                 5178\n",
       "Financial_Analyst             5167\n",
       "Graphic_Designer              5166\n",
       "Flight_attendant              5128\n",
       "Biomedical_Engineer           5127\n",
       "Secretary                     5061\n",
       "Software_Developer            5053\n",
       "Petroleum_Engineer            5041\n",
       "Police_officer                5035\n",
       "Computer_operator             4990\n",
       "Politician                    4944\n",
       "Microbiologist                4881\n",
       "Technician                    4864\n",
       "Artist                        4861\n",
       "Lawyer                        4818\n",
       "Consultant                    4808\n",
       "Dentist                       4782\n",
       "Scientist                     4781\n",
       "Surgeon                       4772\n",
       "Aviator                       4758\n",
       "Technology_specialist         4737\n",
       "Design_Engineer               4729\n",
       "Surveyor                      4714\n",
       "Geologist                     4672\n",
       "Analyst                       4668\n",
       "Army_officer                  4661\n",
       "Architect                     4657\n",
       "Chef                          4635\n",
       "Librarian                     4628\n",
       "Civil_engineer                4616\n",
       "Designer                      4598\n",
       "Economist                     4573\n",
       "Firefighter                   4507\n",
       "Chartered_Accountant          4493\n",
       "Civil_servant                 4413\n",
       "Official                      4087\n",
       "Engineer                      4048\n",
       "Name: count, dtype: int64"
      ]
     },
     "execution_count": 15,
     "metadata": {},
     "output_type": "execute_result"
    }
   ],
   "source": [
    "##Data Distribution of 'Profession'\n",
    "df['Profession'].value_counts()"
   ]
  },
  {
   "cell_type": "code",
   "execution_count": 16,
   "id": "58fe3906",
   "metadata": {},
   "outputs": [
    {
     "data": {
      "text/plain": [
       "CITY\n",
       "Vijayanagaram       1259\n",
       "Bhopal              1208\n",
       "Bulandshahr         1185\n",
       "Saharsa[29]         1180\n",
       "Vijayawada          1172\n",
       "                    ... \n",
       "Ujjain               486\n",
       "Warangal[11][12]     459\n",
       "Bettiah[33]          457\n",
       "Katni                448\n",
       "Karaikudi            431\n",
       "Name: count, Length: 317, dtype: int64"
      ]
     },
     "execution_count": 16,
     "metadata": {},
     "output_type": "execute_result"
    }
   ],
   "source": [
    "##Data Distribution of 'CITY'\n",
    "df['CITY'].value_counts() "
   ]
  },
  {
   "cell_type": "code",
   "execution_count": 17,
   "id": "d1473e1f",
   "metadata": {},
   "outputs": [
    {
     "data": {
      "text/plain": [
       "STATE\n",
       "Uttar_Pradesh        28400\n",
       "Maharashtra          25562\n",
       "Andhra_Pradesh       25297\n",
       "West_Bengal          23483\n",
       "Bihar                19780\n",
       "Tamil_Nadu           16537\n",
       "Madhya_Pradesh       14122\n",
       "Karnataka            11855\n",
       "Gujarat              11408\n",
       "Rajasthan             9174\n",
       "Jharkhand             8965\n",
       "Haryana               7890\n",
       "Telangana             7524\n",
       "Assam                 7062\n",
       "Kerala                5805\n",
       "Delhi                 5490\n",
       "Punjab                4720\n",
       "Odisha                4658\n",
       "Chhattisgarh          3834\n",
       "Uttarakhand           1874\n",
       "Jammu_and_Kashmir     1780\n",
       "Puducherry            1433\n",
       "Mizoram                849\n",
       "Manipur                849\n",
       "Himachal_Pradesh       833\n",
       "Tripura                809\n",
       "Uttar_Pradesh[5]       743\n",
       "Chandigarh             656\n",
       "Sikkim                 608\n",
       "Name: count, dtype: int64"
      ]
     },
     "execution_count": 17,
     "metadata": {},
     "output_type": "execute_result"
    }
   ],
   "source": [
    "##Data Distribution of 'STATE'\n",
    "df['STATE'].value_counts() "
   ]
  },
  {
   "cell_type": "code",
   "execution_count": 18,
   "id": "ce269e0a",
   "metadata": {},
   "outputs": [
    {
     "data": {
      "image/png": "[encoded data removed]",
      "text/plain": [
       "<Figure size 1500x800 with 2 Axes>"
      ]
     },
     "metadata": {},
     "output_type": "display_data"
    }
   ],
   "source": [
    "##Corelation Analysis\n",
    "numeric_features = df.select_dtypes(exclude='object')\n",
    "\n",
    "plt.figure(figsize=(15, 8))\n",
    "corr = numeric_features.corr()\n",
    "sns.heatmap(corr, annot=True, fmt=\".2f\", cmap='Blues', linewidths=0.5, annot_kws={\"size\": 12})\n",
    "plt.show()"
   ]
  },
  {
   "cell_type": "code",
   "execution_count": 19,
   "id": "46bf52c3",
   "metadata": {},
   "outputs": [
    {
     "data": {
      "text/plain": [
       "<Figure size 1200x1000 with 0 Axes>"
      ]
     },
     "metadata": {},
     "output_type": "display_data"
    },
    {
     "data": {
      "image/png": "[encoded data removed]",
      "text/plain": [
       "<Figure size 640x480 with 1 Axes>"
      ]
     },
     "metadata": {},
     "output_type": "display_data"
    }
   ],
   "source": [
    "#Box-plot to check the outliers \n",
    "plt.figure(figsize = (12,10))\n",
    "numeric_features.plot(kind = 'box',title = 'box plot')\n",
    "plt.xticks(rotation = 45)\n",
    "plt.show()"
   ]
  },
  {
   "cell_type": "markdown",
   "id": "9b9a167a",
   "metadata": {},
   "source": [
    " ### Feature Engineering\n",
    "- Handling Missing Values\n",
    "- Feature Encoding\n",
    "- Feature Scaling\n"
   ]
  },
  {
   "cell_type": "code",
   "execution_count": 20,
   "id": "a76ddff1",
   "metadata": {},
   "outputs": [
    {
     "name": "stdout",
     "output_type": "stream",
     "text": [
      "Id                   0\n",
      "Income               0\n",
      "Age                  0\n",
      "Experience           0\n",
      "Married/Single       0\n",
      "House_Ownership      0\n",
      "Car_Ownership        0\n",
      "Profession           0\n",
      "CITY                 0\n",
      "STATE                0\n",
      "CURRENT_JOB_YRS      0\n",
      "CURRENT_HOUSE_YRS    0\n",
      "Risk_Flag            0\n",
      "dtype: int64\n"
     ]
    }
   ],
   "source": [
    "##Identify any missing values in the dataset.\n",
    "print(df.isnull().sum())\n"
   ]
  },
  {
   "cell_type": "code",
   "execution_count": 21,
   "id": "66b2404a",
   "metadata": {},
   "outputs": [],
   "source": [
    "##There are null values in the data"
   ]
  },
  {
   "cell_type": "code",
   "execution_count": 22,
   "id": "e03790fd",
   "metadata": {},
   "outputs": [
    {
     "data": {
      "text/plain": [
       "Index(['Married/Single', 'House_Ownership', 'Car_Ownership', 'Profession',\n",
       "       'CITY', 'STATE'],\n",
       "      dtype='object')"
      ]
     },
     "execution_count": 22,
     "metadata": {},
     "output_type": "execute_result"
    }
   ],
   "source": [
    "categorical_features = df.select_dtypes(include ='object')\n",
    "categorical_features.columns"
   ]
  },
  {
   "cell_type": "code",
   "execution_count": 23,
   "id": "719a1884",
   "metadata": {},
   "outputs": [],
   "source": [
    "from sklearn.preprocessing import LabelEncoder\n",
    "from sklearn.preprocessing import StandardScaler\n"
   ]
  },
  {
   "cell_type": "code",
   "execution_count": 24,
   "id": "24a47864",
   "metadata": {},
   "outputs": [],
   "source": [
    "l_encoder = LabelEncoder()\n",
    "\n",
    "#apply the label encoder for the Categorical Columns\n",
    "for column in categorical_features:\n",
    "    df[column] = l_encoder.fit_transform(df[column]) "
   ]
  },
  {
   "cell_type": "code",
   "execution_count": 25,
   "id": "946b2baa",
   "metadata": {},
   "outputs": [
    {
     "data": {
      "text/html": [
       "<div>\n",
       "<style scoped>\n",
       "    .dataframe tbody tr th:only-of-type {\n",
       "        vertical-align: middle;\n",
       "    }\n",
       "\n",
       "    .dataframe tbody tr th {\n",
       "        vertical-align: top;\n",
       "    }\n",
       "\n",
       "    .dataframe thead th {\n",
       "        text-align: right;\n",
       "    }\n",
       "</style>\n",
       "<table border=\"1\" class=\"dataframe\">\n",
       "  <thead>\n",
       "    <tr style=\"text-align: right;\">\n",
       "      <th></th>\n",
       "      <th>Id</th>\n",
       "      <th>Income</th>\n",
       "      <th>Age</th>\n",
       "      <th>Experience</th>\n",
       "      <th>Married/Single</th>\n",
       "      <th>House_Ownership</th>\n",
       "      <th>Car_Ownership</th>\n",
       "      <th>Profession</th>\n",
       "      <th>CITY</th>\n",
       "      <th>STATE</th>\n",
       "      <th>CURRENT_JOB_YRS</th>\n",
       "      <th>CURRENT_HOUSE_YRS</th>\n",
       "      <th>Risk_Flag</th>\n",
       "    </tr>\n",
       "  </thead>\n",
       "  <tbody>\n",
       "    <tr>\n",
       "      <th>0</th>\n",
       "      <td>1</td>\n",
       "      <td>1303834</td>\n",
       "      <td>23</td>\n",
       "      <td>3</td>\n",
       "      <td>1</td>\n",
       "      <td>2</td>\n",
       "      <td>0</td>\n",
       "      <td>33</td>\n",
       "      <td>251</td>\n",
       "      <td>13</td>\n",
       "      <td>3</td>\n",
       "      <td>13</td>\n",
       "      <td>0</td>\n",
       "    </tr>\n",
       "    <tr>\n",
       "      <th>1</th>\n",
       "      <td>2</td>\n",
       "      <td>7574516</td>\n",
       "      <td>40</td>\n",
       "      <td>10</td>\n",
       "      <td>1</td>\n",
       "      <td>2</td>\n",
       "      <td>0</td>\n",
       "      <td>43</td>\n",
       "      <td>227</td>\n",
       "      <td>14</td>\n",
       "      <td>9</td>\n",
       "      <td>13</td>\n",
       "      <td>0</td>\n",
       "    </tr>\n",
       "    <tr>\n",
       "      <th>2</th>\n",
       "      <td>3</td>\n",
       "      <td>3991815</td>\n",
       "      <td>66</td>\n",
       "      <td>4</td>\n",
       "      <td>0</td>\n",
       "      <td>2</td>\n",
       "      <td>0</td>\n",
       "      <td>47</td>\n",
       "      <td>8</td>\n",
       "      <td>12</td>\n",
       "      <td>4</td>\n",
       "      <td>10</td>\n",
       "      <td>0</td>\n",
       "    </tr>\n",
       "    <tr>\n",
       "      <th>3</th>\n",
       "      <td>4</td>\n",
       "      <td>6256451</td>\n",
       "      <td>41</td>\n",
       "      <td>2</td>\n",
       "      <td>1</td>\n",
       "      <td>2</td>\n",
       "      <td>1</td>\n",
       "      <td>43</td>\n",
       "      <td>54</td>\n",
       "      <td>17</td>\n",
       "      <td>2</td>\n",
       "      <td>12</td>\n",
       "      <td>1</td>\n",
       "    </tr>\n",
       "    <tr>\n",
       "      <th>4</th>\n",
       "      <td>5</td>\n",
       "      <td>5768871</td>\n",
       "      <td>47</td>\n",
       "      <td>11</td>\n",
       "      <td>1</td>\n",
       "      <td>2</td>\n",
       "      <td>0</td>\n",
       "      <td>11</td>\n",
       "      <td>296</td>\n",
       "      <td>22</td>\n",
       "      <td>3</td>\n",
       "      <td>14</td>\n",
       "      <td>1</td>\n",
       "    </tr>\n",
       "    <tr>\n",
       "      <th>...</th>\n",
       "      <td>...</td>\n",
       "      <td>...</td>\n",
       "      <td>...</td>\n",
       "      <td>...</td>\n",
       "      <td>...</td>\n",
       "      <td>...</td>\n",
       "      <td>...</td>\n",
       "      <td>...</td>\n",
       "      <td>...</td>\n",
       "      <td>...</td>\n",
       "      <td>...</td>\n",
       "      <td>...</td>\n",
       "      <td>...</td>\n",
       "    </tr>\n",
       "    <tr>\n",
       "      <th>251995</th>\n",
       "      <td>251996</td>\n",
       "      <td>8154883</td>\n",
       "      <td>43</td>\n",
       "      <td>13</td>\n",
       "      <td>1</td>\n",
       "      <td>2</td>\n",
       "      <td>0</td>\n",
       "      <td>45</td>\n",
       "      <td>162</td>\n",
       "      <td>28</td>\n",
       "      <td>6</td>\n",
       "      <td>11</td>\n",
       "      <td>0</td>\n",
       "    </tr>\n",
       "    <tr>\n",
       "      <th>251996</th>\n",
       "      <td>251997</td>\n",
       "      <td>2843572</td>\n",
       "      <td>26</td>\n",
       "      <td>10</td>\n",
       "      <td>1</td>\n",
       "      <td>2</td>\n",
       "      <td>0</td>\n",
       "      <td>3</td>\n",
       "      <td>251</td>\n",
       "      <td>13</td>\n",
       "      <td>6</td>\n",
       "      <td>11</td>\n",
       "      <td>0</td>\n",
       "    </tr>\n",
       "    <tr>\n",
       "      <th>251997</th>\n",
       "      <td>251998</td>\n",
       "      <td>4522448</td>\n",
       "      <td>46</td>\n",
       "      <td>7</td>\n",
       "      <td>1</td>\n",
       "      <td>2</td>\n",
       "      <td>0</td>\n",
       "      <td>17</td>\n",
       "      <td>144</td>\n",
       "      <td>14</td>\n",
       "      <td>7</td>\n",
       "      <td>12</td>\n",
       "      <td>0</td>\n",
       "    </tr>\n",
       "    <tr>\n",
       "      <th>251998</th>\n",
       "      <td>251999</td>\n",
       "      <td>6507128</td>\n",
       "      <td>45</td>\n",
       "      <td>0</td>\n",
       "      <td>1</td>\n",
       "      <td>2</td>\n",
       "      <td>0</td>\n",
       "      <td>27</td>\n",
       "      <td>233</td>\n",
       "      <td>18</td>\n",
       "      <td>0</td>\n",
       "      <td>10</td>\n",
       "      <td>0</td>\n",
       "    </tr>\n",
       "    <tr>\n",
       "      <th>251999</th>\n",
       "      <td>252000</td>\n",
       "      <td>9070230</td>\n",
       "      <td>70</td>\n",
       "      <td>17</td>\n",
       "      <td>1</td>\n",
       "      <td>2</td>\n",
       "      <td>0</td>\n",
       "      <td>44</td>\n",
       "      <td>26</td>\n",
       "      <td>22</td>\n",
       "      <td>7</td>\n",
       "      <td>11</td>\n",
       "      <td>0</td>\n",
       "    </tr>\n",
       "  </tbody>\n",
       "</table>\n",
       "<p>252000 rows × 13 columns</p>\n",
       "</div>"
      ],
      "text/plain": [
       "            Id   Income  Age  Experience  Married/Single  House_Ownership  \\\n",
       "0            1  1303834   23           3               1                2   \n",
       "1            2  7574516   40          10               1                2   \n",
       "2            3  3991815   66           4               0                2   \n",
       "3            4  6256451   41           2               1                2   \n",
       "4            5  5768871   47          11               1                2   \n",
       "...        ...      ...  ...         ...             ...              ...   \n",
       "251995  251996  8154883   43          13               1                2   \n",
       "251996  251997  2843572   26          10               1                2   \n",
       "251997  251998  4522448   46           7               1                2   \n",
       "251998  251999  6507128   45           0               1                2   \n",
       "251999  252000  9070230   70          17               1                2   \n",
       "\n",
       "        Car_Ownership  Profession  CITY  STATE  CURRENT_JOB_YRS  \\\n",
       "0                   0          33   251     13                3   \n",
       "1                   0          43   227     14                9   \n",
       "2                   0          47     8     12                4   \n",
       "3                   1          43    54     17                2   \n",
       "4                   0          11   296     22                3   \n",
       "...               ...         ...   ...    ...              ...   \n",
       "251995              0          45   162     28                6   \n",
       "251996              0           3   251     13                6   \n",
       "251997              0          17   144     14                7   \n",
       "251998              0          27   233     18                0   \n",
       "251999              0          44    26     22                7   \n",
       "\n",
       "        CURRENT_HOUSE_YRS  Risk_Flag  \n",
       "0                      13          0  \n",
       "1                      13          0  \n",
       "2                      10          0  \n",
       "3                      12          1  \n",
       "4                      14          1  \n",
       "...                   ...        ...  \n",
       "251995                 11          0  \n",
       "251996                 11          0  \n",
       "251997                 12          0  \n",
       "251998                 10          0  \n",
       "251999                 11          0  \n",
       "\n",
       "[252000 rows x 13 columns]"
      ]
     },
     "execution_count": 25,
     "metadata": {},
     "output_type": "execute_result"
    }
   ],
   "source": [
    "df"
   ]
  },
  {
   "cell_type": "code",
   "execution_count": 26,
   "id": "86b1f5c1",
   "metadata": {},
   "outputs": [
    {
     "data": {
      "text/plain": [
       "Index(['Id', 'Income', 'Age', 'Experience', 'CURRENT_JOB_YRS',\n",
       "       'CURRENT_HOUSE_YRS', 'Risk_Flag'],\n",
       "      dtype='object')"
      ]
     },
     "execution_count": 26,
     "metadata": {},
     "output_type": "execute_result"
    }
   ],
   "source": [
    "numeric_features.columns"
   ]
  },
  {
   "cell_type": "code",
   "execution_count": 27,
   "id": "994135b6",
   "metadata": {},
   "outputs": [],
   "source": [
    "#Feature Scaling\n",
    "from sklearn.preprocessing import StandardScaler\n",
    "\n",
    "\n",
    "scaler = StandardScaler()\n",
    "# List of numerical columns\n",
    "numerical_columns = ['Income', 'Age', 'Experience', 'CURRENT_JOB_YRS', 'CURRENT_HOUSE_YRS']\n",
    "\n",
    "# Apply StandardScaler for the above  numerical columns \n",
    "df[numerical_columns] = scaler.fit_transform(df[numerical_columns])"
   ]
  },
  {
   "cell_type": "code",
   "execution_count": 28,
   "id": "be82c5cf",
   "metadata": {},
   "outputs": [
    {
     "data": {
      "text/html": [
       "<div>\n",
       "<style scoped>\n",
       "    .dataframe tbody tr th:only-of-type {\n",
       "        vertical-align: middle;\n",
       "    }\n",
       "\n",
       "    .dataframe tbody tr th {\n",
       "        vertical-align: top;\n",
       "    }\n",
       "\n",
       "    .dataframe thead th {\n",
       "        text-align: right;\n",
       "    }\n",
       "</style>\n",
       "<table border=\"1\" class=\"dataframe\">\n",
       "  <thead>\n",
       "    <tr style=\"text-align: right;\">\n",
       "      <th></th>\n",
       "      <th>Id</th>\n",
       "      <th>Income</th>\n",
       "      <th>Age</th>\n",
       "      <th>Experience</th>\n",
       "      <th>Married/Single</th>\n",
       "      <th>House_Ownership</th>\n",
       "      <th>Car_Ownership</th>\n",
       "      <th>Profession</th>\n",
       "      <th>CITY</th>\n",
       "      <th>STATE</th>\n",
       "      <th>CURRENT_JOB_YRS</th>\n",
       "      <th>CURRENT_HOUSE_YRS</th>\n",
       "      <th>Risk_Flag</th>\n",
       "    </tr>\n",
       "  </thead>\n",
       "  <tbody>\n",
       "    <tr>\n",
       "      <th>0</th>\n",
       "      <td>1</td>\n",
       "      <td>-1.283145</td>\n",
       "      <td>-1.579604</td>\n",
       "      <td>-1.180232</td>\n",
       "      <td>1</td>\n",
       "      <td>2</td>\n",
       "      <td>0</td>\n",
       "      <td>33</td>\n",
       "      <td>251</td>\n",
       "      <td>13</td>\n",
       "      <td>-0.914131</td>\n",
       "      <td>0.716356</td>\n",
       "      <td>0</td>\n",
       "    </tr>\n",
       "    <tr>\n",
       "      <th>1</th>\n",
       "      <td>2</td>\n",
       "      <td>0.895457</td>\n",
       "      <td>-0.583344</td>\n",
       "      <td>-0.014067</td>\n",
       "      <td>1</td>\n",
       "      <td>2</td>\n",
       "      <td>0</td>\n",
       "      <td>43</td>\n",
       "      <td>227</td>\n",
       "      <td>14</td>\n",
       "      <td>0.731036</td>\n",
       "      <td>0.716356</td>\n",
       "      <td>0</td>\n",
       "    </tr>\n",
       "    <tr>\n",
       "      <th>2</th>\n",
       "      <td>3</td>\n",
       "      <td>-0.349269</td>\n",
       "      <td>0.940348</td>\n",
       "      <td>-1.013637</td>\n",
       "      <td>0</td>\n",
       "      <td>2</td>\n",
       "      <td>0</td>\n",
       "      <td>47</td>\n",
       "      <td>8</td>\n",
       "      <td>12</td>\n",
       "      <td>-0.639936</td>\n",
       "      <td>-1.427981</td>\n",
       "      <td>0</td>\n",
       "    </tr>\n",
       "    <tr>\n",
       "      <th>3</th>\n",
       "      <td>4</td>\n",
       "      <td>0.437526</td>\n",
       "      <td>-0.524740</td>\n",
       "      <td>-1.346827</td>\n",
       "      <td>1</td>\n",
       "      <td>2</td>\n",
       "      <td>1</td>\n",
       "      <td>43</td>\n",
       "      <td>54</td>\n",
       "      <td>17</td>\n",
       "      <td>-1.188325</td>\n",
       "      <td>0.001577</td>\n",
       "      <td>1</td>\n",
       "    </tr>\n",
       "    <tr>\n",
       "      <th>4</th>\n",
       "      <td>5</td>\n",
       "      <td>0.268128</td>\n",
       "      <td>-0.173119</td>\n",
       "      <td>0.152528</td>\n",
       "      <td>1</td>\n",
       "      <td>2</td>\n",
       "      <td>0</td>\n",
       "      <td>11</td>\n",
       "      <td>296</td>\n",
       "      <td>22</td>\n",
       "      <td>-0.914131</td>\n",
       "      <td>1.431135</td>\n",
       "      <td>1</td>\n",
       "    </tr>\n",
       "  </tbody>\n",
       "</table>\n",
       "</div>"
      ],
      "text/plain": [
       "   Id    Income       Age  Experience  Married/Single  House_Ownership  \\\n",
       "0   1 -1.283145 -1.579604   -1.180232               1                2   \n",
       "1   2  0.895457 -0.583344   -0.014067               1                2   \n",
       "2   3 -0.349269  0.940348   -1.013637               0                2   \n",
       "3   4  0.437526 -0.524740   -1.346827               1                2   \n",
       "4   5  0.268128 -0.173119    0.152528               1                2   \n",
       "\n",
       "   Car_Ownership  Profession  CITY  STATE  CURRENT_JOB_YRS  CURRENT_HOUSE_YRS  \\\n",
       "0              0          33   251     13        -0.914131           0.716356   \n",
       "1              0          43   227     14         0.731036           0.716356   \n",
       "2              0          47     8     12        -0.639936          -1.427981   \n",
       "3              1          43    54     17        -1.188325           0.001577   \n",
       "4              0          11   296     22        -0.914131           1.431135   \n",
       "\n",
       "   Risk_Flag  \n",
       "0          0  \n",
       "1          0  \n",
       "2          0  \n",
       "3          1  \n",
       "4          1  "
      ]
     },
     "execution_count": 28,
     "metadata": {},
     "output_type": "execute_result"
    }
   ],
   "source": [
    "\n",
    "df.head()"
   ]
  },
  {
   "cell_type": "code",
   "execution_count": null,
   "id": "8f69cff8",
   "metadata": {},
   "outputs": [],
   "source": []
  },
  {
   "cell_type": "markdown",
   "id": "97b67d2c",
   "metadata": {},
   "source": [
    " ### Model Building\n",
    " \n",
    "Split the Data\n",
    "- Separate the dataset into features and target variable, then split into training and testing sets"
   ]
  },
  {
   "cell_type": "code",
   "execution_count": 29,
   "id": "5d730d73",
   "metadata": {},
   "outputs": [],
   "source": [
    "from sklearn.model_selection import train_test_split\n",
    "\n",
    "##Define the features and target\n",
    "## we can drop the colum of 'ID' and taget colum of 'Risk_Flag'\n",
    "X = df.drop(columns = ['Id','Risk_Flag'])\n",
    "y = df['Risk_Flag']"
   ]
  },
  {
   "cell_type": "code",
   "execution_count": 30,
   "id": "5460bf94",
   "metadata": {},
   "outputs": [
    {
     "data": {
      "text/html": [
       "<div>\n",
       "<style scoped>\n",
       "    .dataframe tbody tr th:only-of-type {\n",
       "        vertical-align: middle;\n",
       "    }\n",
       "\n",
       "    .dataframe tbody tr th {\n",
       "        vertical-align: top;\n",
       "    }\n",
       "\n",
       "    .dataframe thead th {\n",
       "        text-align: right;\n",
       "    }\n",
       "</style>\n",
       "<table border=\"1\" class=\"dataframe\">\n",
       "  <thead>\n",
       "    <tr style=\"text-align: right;\">\n",
       "      <th></th>\n",
       "      <th>Income</th>\n",
       "      <th>Age</th>\n",
       "      <th>Experience</th>\n",
       "      <th>Married/Single</th>\n",
       "      <th>House_Ownership</th>\n",
       "      <th>Car_Ownership</th>\n",
       "      <th>Profession</th>\n",
       "      <th>CITY</th>\n",
       "      <th>STATE</th>\n",
       "      <th>CURRENT_JOB_YRS</th>\n",
       "      <th>CURRENT_HOUSE_YRS</th>\n",
       "    </tr>\n",
       "  </thead>\n",
       "  <tbody>\n",
       "    <tr>\n",
       "      <th>0</th>\n",
       "      <td>-1.283145</td>\n",
       "      <td>-1.579604</td>\n",
       "      <td>-1.180232</td>\n",
       "      <td>1</td>\n",
       "      <td>2</td>\n",
       "      <td>0</td>\n",
       "      <td>33</td>\n",
       "      <td>251</td>\n",
       "      <td>13</td>\n",
       "      <td>-0.914131</td>\n",
       "      <td>0.716356</td>\n",
       "    </tr>\n",
       "    <tr>\n",
       "      <th>1</th>\n",
       "      <td>0.895457</td>\n",
       "      <td>-0.583344</td>\n",
       "      <td>-0.014067</td>\n",
       "      <td>1</td>\n",
       "      <td>2</td>\n",
       "      <td>0</td>\n",
       "      <td>43</td>\n",
       "      <td>227</td>\n",
       "      <td>14</td>\n",
       "      <td>0.731036</td>\n",
       "      <td>0.716356</td>\n",
       "    </tr>\n",
       "    <tr>\n",
       "      <th>2</th>\n",
       "      <td>-0.349269</td>\n",
       "      <td>0.940348</td>\n",
       "      <td>-1.013637</td>\n",
       "      <td>0</td>\n",
       "      <td>2</td>\n",
       "      <td>0</td>\n",
       "      <td>47</td>\n",
       "      <td>8</td>\n",
       "      <td>12</td>\n",
       "      <td>-0.639936</td>\n",
       "      <td>-1.427981</td>\n",
       "    </tr>\n",
       "    <tr>\n",
       "      <th>3</th>\n",
       "      <td>0.437526</td>\n",
       "      <td>-0.524740</td>\n",
       "      <td>-1.346827</td>\n",
       "      <td>1</td>\n",
       "      <td>2</td>\n",
       "      <td>1</td>\n",
       "      <td>43</td>\n",
       "      <td>54</td>\n",
       "      <td>17</td>\n",
       "      <td>-1.188325</td>\n",
       "      <td>0.001577</td>\n",
       "    </tr>\n",
       "    <tr>\n",
       "      <th>4</th>\n",
       "      <td>0.268128</td>\n",
       "      <td>-0.173119</td>\n",
       "      <td>0.152528</td>\n",
       "      <td>1</td>\n",
       "      <td>2</td>\n",
       "      <td>0</td>\n",
       "      <td>11</td>\n",
       "      <td>296</td>\n",
       "      <td>22</td>\n",
       "      <td>-0.914131</td>\n",
       "      <td>1.431135</td>\n",
       "    </tr>\n",
       "    <tr>\n",
       "      <th>...</th>\n",
       "      <td>...</td>\n",
       "      <td>...</td>\n",
       "      <td>...</td>\n",
       "      <td>...</td>\n",
       "      <td>...</td>\n",
       "      <td>...</td>\n",
       "      <td>...</td>\n",
       "      <td>...</td>\n",
       "      <td>...</td>\n",
       "      <td>...</td>\n",
       "      <td>...</td>\n",
       "    </tr>\n",
       "    <tr>\n",
       "      <th>251995</th>\n",
       "      <td>1.097092</td>\n",
       "      <td>-0.407533</td>\n",
       "      <td>0.485719</td>\n",
       "      <td>1</td>\n",
       "      <td>2</td>\n",
       "      <td>0</td>\n",
       "      <td>45</td>\n",
       "      <td>162</td>\n",
       "      <td>28</td>\n",
       "      <td>-0.091547</td>\n",
       "      <td>-0.713202</td>\n",
       "    </tr>\n",
       "    <tr>\n",
       "      <th>251996</th>\n",
       "      <td>-0.748199</td>\n",
       "      <td>-1.403793</td>\n",
       "      <td>-0.014067</td>\n",
       "      <td>1</td>\n",
       "      <td>2</td>\n",
       "      <td>0</td>\n",
       "      <td>3</td>\n",
       "      <td>251</td>\n",
       "      <td>13</td>\n",
       "      <td>-0.091547</td>\n",
       "      <td>-0.713202</td>\n",
       "    </tr>\n",
       "    <tr>\n",
       "      <th>251997</th>\n",
       "      <td>-0.164913</td>\n",
       "      <td>-0.231723</td>\n",
       "      <td>-0.513852</td>\n",
       "      <td>1</td>\n",
       "      <td>2</td>\n",
       "      <td>0</td>\n",
       "      <td>17</td>\n",
       "      <td>144</td>\n",
       "      <td>14</td>\n",
       "      <td>0.182647</td>\n",
       "      <td>0.001577</td>\n",
       "    </tr>\n",
       "    <tr>\n",
       "      <th>251998</th>\n",
       "      <td>0.524618</td>\n",
       "      <td>-0.290326</td>\n",
       "      <td>-1.680018</td>\n",
       "      <td>1</td>\n",
       "      <td>2</td>\n",
       "      <td>0</td>\n",
       "      <td>27</td>\n",
       "      <td>233</td>\n",
       "      <td>18</td>\n",
       "      <td>-1.736714</td>\n",
       "      <td>-1.427981</td>\n",
       "    </tr>\n",
       "    <tr>\n",
       "      <th>251999</th>\n",
       "      <td>1.415108</td>\n",
       "      <td>1.174762</td>\n",
       "      <td>1.152099</td>\n",
       "      <td>1</td>\n",
       "      <td>2</td>\n",
       "      <td>0</td>\n",
       "      <td>44</td>\n",
       "      <td>26</td>\n",
       "      <td>22</td>\n",
       "      <td>0.182647</td>\n",
       "      <td>-0.713202</td>\n",
       "    </tr>\n",
       "  </tbody>\n",
       "</table>\n",
       "<p>252000 rows × 11 columns</p>\n",
       "</div>"
      ],
      "text/plain": [
       "          Income       Age  Experience  Married/Single  House_Ownership  \\\n",
       "0      -1.283145 -1.579604   -1.180232               1                2   \n",
       "1       0.895457 -0.583344   -0.014067               1                2   \n",
       "2      -0.349269  0.940348   -1.013637               0                2   \n",
       "3       0.437526 -0.524740   -1.346827               1                2   \n",
       "4       0.268128 -0.173119    0.152528               1                2   \n",
       "...          ...       ...         ...             ...              ...   \n",
       "251995  1.097092 -0.407533    0.485719               1                2   \n",
       "251996 -0.748199 -1.403793   -0.014067               1                2   \n",
       "251997 -0.164913 -0.231723   -0.513852               1                2   \n",
       "251998  0.524618 -0.290326   -1.680018               1                2   \n",
       "251999  1.415108  1.174762    1.152099               1                2   \n",
       "\n",
       "        Car_Ownership  Profession  CITY  STATE  CURRENT_JOB_YRS  \\\n",
       "0                   0          33   251     13        -0.914131   \n",
       "1                   0          43   227     14         0.731036   \n",
       "2                   0          47     8     12        -0.639936   \n",
       "3                   1          43    54     17        -1.188325   \n",
       "4                   0          11   296     22        -0.914131   \n",
       "...               ...         ...   ...    ...              ...   \n",
       "251995              0          45   162     28        -0.091547   \n",
       "251996              0           3   251     13        -0.091547   \n",
       "251997              0          17   144     14         0.182647   \n",
       "251998              0          27   233     18        -1.736714   \n",
       "251999              0          44    26     22         0.182647   \n",
       "\n",
       "        CURRENT_HOUSE_YRS  \n",
       "0                0.716356  \n",
       "1                0.716356  \n",
       "2               -1.427981  \n",
       "3                0.001577  \n",
       "4                1.431135  \n",
       "...                   ...  \n",
       "251995          -0.713202  \n",
       "251996          -0.713202  \n",
       "251997           0.001577  \n",
       "251998          -1.427981  \n",
       "251999          -0.713202  \n",
       "\n",
       "[252000 rows x 11 columns]"
      ]
     },
     "execution_count": 30,
     "metadata": {},
     "output_type": "execute_result"
    }
   ],
   "source": [
    "pd.DataFrame(X)"
   ]
  },
  {
   "cell_type": "code",
   "execution_count": 31,
   "id": "7f0a3387",
   "metadata": {},
   "outputs": [
    {
     "data": {
      "text/html": [
       "<div>\n",
       "<style scoped>\n",
       "    .dataframe tbody tr th:only-of-type {\n",
       "        vertical-align: middle;\n",
       "    }\n",
       "\n",
       "    .dataframe tbody tr th {\n",
       "        vertical-align: top;\n",
       "    }\n",
       "\n",
       "    .dataframe thead th {\n",
       "        text-align: right;\n",
       "    }\n",
       "</style>\n",
       "<table border=\"1\" class=\"dataframe\">\n",
       "  <thead>\n",
       "    <tr style=\"text-align: right;\">\n",
       "      <th></th>\n",
       "      <th>Risk_Flag</th>\n",
       "    </tr>\n",
       "  </thead>\n",
       "  <tbody>\n",
       "    <tr>\n",
       "      <th>0</th>\n",
       "      <td>0</td>\n",
       "    </tr>\n",
       "    <tr>\n",
       "      <th>1</th>\n",
       "      <td>0</td>\n",
       "    </tr>\n",
       "    <tr>\n",
       "      <th>2</th>\n",
       "      <td>0</td>\n",
       "    </tr>\n",
       "    <tr>\n",
       "      <th>3</th>\n",
       "      <td>1</td>\n",
       "    </tr>\n",
       "    <tr>\n",
       "      <th>4</th>\n",
       "      <td>1</td>\n",
       "    </tr>\n",
       "    <tr>\n",
       "      <th>...</th>\n",
       "      <td>...</td>\n",
       "    </tr>\n",
       "    <tr>\n",
       "      <th>251995</th>\n",
       "      <td>0</td>\n",
       "    </tr>\n",
       "    <tr>\n",
       "      <th>251996</th>\n",
       "      <td>0</td>\n",
       "    </tr>\n",
       "    <tr>\n",
       "      <th>251997</th>\n",
       "      <td>0</td>\n",
       "    </tr>\n",
       "    <tr>\n",
       "      <th>251998</th>\n",
       "      <td>0</td>\n",
       "    </tr>\n",
       "    <tr>\n",
       "      <th>251999</th>\n",
       "      <td>0</td>\n",
       "    </tr>\n",
       "  </tbody>\n",
       "</table>\n",
       "<p>252000 rows × 1 columns</p>\n",
       "</div>"
      ],
      "text/plain": [
       "        Risk_Flag\n",
       "0               0\n",
       "1               0\n",
       "2               0\n",
       "3               1\n",
       "4               1\n",
       "...           ...\n",
       "251995          0\n",
       "251996          0\n",
       "251997          0\n",
       "251998          0\n",
       "251999          0\n",
       "\n",
       "[252000 rows x 1 columns]"
      ]
     },
     "execution_count": 31,
     "metadata": {},
     "output_type": "execute_result"
    }
   ],
   "source": [
    "pd.DataFrame(y)"
   ]
  },
  {
   "cell_type": "code",
   "execution_count": 32,
   "id": "38b01d26",
   "metadata": {},
   "outputs": [],
   "source": [
    "#Split the Data\n",
    "X_train,X_test,y_train,y_test = train_test_split(X,y,test_size = 0.3,random_state = 42 )\n"
   ]
  },
  {
   "cell_type": "code",
   "execution_count": 33,
   "id": "bc658159",
   "metadata": {},
   "outputs": [
    {
     "name": "stdout",
     "output_type": "stream",
     "text": [
      "The Shape of X_train and X_test (176400, 11) (75600, 11)\n",
      "The Shape of y_train and y_test (176400,) (75600,)\n"
     ]
    }
   ],
   "source": [
    "#print the shapes\n",
    "print(\"The Shape of X_train and X_test\",X_train.shape,X_test.shape)\n",
    "print(\"The Shape of y_train and y_test\",y_train.shape,y_test.shape)"
   ]
  },
  {
   "cell_type": "markdown",
   "id": "f2514e9c",
   "metadata": {},
   "source": [
    "### Train the Model"
   ]
  },
  {
   "cell_type": "code",
   "execution_count": 56,
   "id": "067e1d1f",
   "metadata": {},
   "outputs": [],
   "source": [
    "from sklearn.ensemble import GradientBoostingClassifier, AdaBoostClassifier, RandomForestClassifier\n",
    "from xgboost import XGBClassifier\n",
    "from sklearn.linear_model import LogisticRegression\n",
    "from sklearn.metrics import accuracy_score,confusion_matrix,classification_report\n"
   ]
  },
  {
   "cell_type": "code",
   "execution_count": 45,
   "id": "135a2376",
   "metadata": {},
   "outputs": [
    {
     "name": "stdout",
     "output_type": "stream",
     "text": [
      " \n"
     ]
    }
   ],
   "source": [
    "# Initialize models\n",
    "rf_model = RandomForestClassifier()\n",
    "gb_model = GradientBoostingClassifier()\n",
    "ab_model = AdaBoostClassifier()\n",
    "lr_model = LogisticRegression()\n",
    "xgb_model = XGBClassifier()\n",
    "\n",
    "# Fit the models\n",
    "rf_model.fit(X_train, y_train)\n",
    "gb_model.fit(X_train, y_train)\n",
    "ab_model.fit(X_train, y_train)\n",
    "lr_model.fit(X_train, y_train)\n",
    "xgb_model.fit(X_train, y_train)\n",
    "print(\" \")\n"
   ]
  },
  {
   "cell_type": "markdown",
   "id": "357afe2c",
   "metadata": {},
   "source": [
    "### Model Evalution\n"
   ]
  },
  {
   "cell_type": "code",
   "execution_count": 54,
   "id": "d00e8316",
   "metadata": {},
   "outputs": [
    {
     "name": "stdout",
     "output_type": "stream",
     "text": [
      "Accuracy of the Train  Data of  LogisticRegression Model is 0.8768424036281179\n",
      "Accuracy of the Test   Data of  LogisticRegression Model is 0.8773677248677249\n",
      "------------------------------------------------------------\n",
      "Accuracy of the Train  Data of  XGBClassifier Model is 0.8941836734693878\n",
      "Accuracy of the Test   Data of  XGBClassifier Model is 0.8886507936507937\n",
      "------------------------------------------------------------\n",
      "Accuracy of the Train  Data of  RandomForest Model is 0.9373356009070295\n",
      "Accuracy of the Test   Data of  RandomForest Model is 0.8991137566137566\n",
      "------------------------------------------------------------\n",
      "Accuracy of the Train  Data of  GradientBoosting Model is 0.8770521541950114\n",
      "Accuracy of the Test   Data of  GradientBoosting Model is 0.8775925925925926\n",
      "------------------------------------------------------------\n",
      "Accuracy of the Train  Data of  AdaBoost Model is 0.8769331065759637\n",
      "Accuracy of the Test   Data of  AdaBoost Model is 0.8774867724867725\n",
      "------------------------------------------------------------\n"
     ]
    }
   ],
   "source": [
    "# Comparison of Models\n",
    "models = {\n",
    "    'LogisticRegression':log_model,\n",
    "    'XGBClassifier':xgb_model,\n",
    "    'RandomForest': rf_model,\n",
    "    'GradientBoosting': gb_model,\n",
    "    'AdaBoost': ab_model\n",
    "}\n",
    "\n",
    "\n",
    "for name, model in models.items():\n",
    "    test_data_pred = model.predict(X_test)\n",
    "    train_data_pred = model.predict(X_train)\n",
    "    print(\"Accuracy of the Train  Data of \",name,\"Model is\",accuracy_score(y_train,train_data_pred))\n",
    "    print(\"Accuracy of the Test   Data of \",name,\"Model is\",accuracy_score(y_test,test_data_pred))\n",
    "    print('------'*10)\n",
    "\n"
   ]
  },
  {
   "cell_type": "code",
   "execution_count": 64,
   "id": "fb8e4a62",
   "metadata": {},
   "outputs": [
    {
     "name": "stdout",
     "output_type": "stream",
     "text": [
      "ROC-AUC of LogisticRegression Model: 0.5\n",
      "------------------------------------------------------------\n",
      "ROC-AUC of XGBClassifier Model: 0.5953662809410432\n",
      "------------------------------------------------------------\n",
      "ROC-AUC of RandomForest Model: 0.7467260036338179\n",
      "------------------------------------------------------------\n",
      "ROC-AUC of GradientBoosting Model: 0.501148804619245\n",
      "------------------------------------------------------------\n",
      "ROC-AUC of AdaBoost Model: 0.5005781714000656\n",
      "------------------------------------------------------------\n"
     ]
    }
   ],
   "source": [
    "from sklearn.metrics import roc_auc_score\n",
    "\n",
    "#Find  the ROC-AUC for all models\n",
    "for name, model in models.items():\n",
    "    y_pred = model.predict(X_test)\n",
    "    roc_auc = roc_auc_score(y_test,y_pred)\n",
    "    print(f\"ROC-AUC of {name} Model: {roc_auc}\")\n",
    "    print('------'*10)\n"
   ]
  },
  {
   "cell_type": "markdown",
   "id": "0faa375a",
   "metadata": {},
   "source": [
    "### Random Forest Classifier given good accurcay on the train and test data ,then other models ,so we continue with the RandomForest"
   ]
  },
  {
   "cell_type": "code",
   "execution_count": 57,
   "id": "ae3dff30",
   "metadata": {},
   "outputs": [
    {
     "name": "stdout",
     "output_type": "stream",
     "text": [
      "Accuracy of the Random Forest 0.8991137566137566\n",
      "--------------------------------------------------\n",
      "[[62922  3407]\n",
      " [ 4220  5051]]\n"
     ]
    }
   ],
   "source": [
    "# Evaluate the model using the random forst Classifier\n",
    "#rf_model.fit(X_train, y_train)\n",
    "y_pred_rf = rf_model.predict(X_test)\n",
    "print(\"Accuracy of the Random Forest\",accuracy_score(y_test,y_pred_rf))\n",
    "print(\"-----\"*10)\n",
    "print(confusion_matrix(y_test, y_pred_rf))\n",
    "\n"
   ]
  },
  {
   "cell_type": "markdown",
   "id": "2b38530e",
   "metadata": {},
   "source": [
    "### Confusion Matrix Breakdown\n",
    "\n",
    "True Positives (TP): 5,051 \n",
    "– The number of high-risk(1) clients correctly identified as high-risk.\n",
    "\n",
    "False Positives (FP): 3,407\n",
    "– The number of low-risk(1) clients incorrectly identified as high-risk.\n",
    "\n",
    "False Negatives (FN): 4,220\n",
    "– The number of high-risk(1) clients incorrectly identified as low-risk.\n",
    "\n",
    "True Negatives (TN): 62,922 \n",
    "– The number of low-risk(0) clients correctly identified as low-risk.\n"
   ]
  },
  {
   "cell_type": "code",
   "execution_count": 59,
   "id": "5c691bac",
   "metadata": {},
   "outputs": [
    {
     "name": "stdout",
     "output_type": "stream",
     "text": [
      "              precision    recall  f1-score   support\n",
      "\n",
      "    Low_Risk       0.94      0.95      0.94     66329\n",
      "   High_Risk       0.60      0.54      0.57      9271\n",
      "\n",
      "    accuracy                           0.90     75600\n",
      "   macro avg       0.77      0.75      0.76     75600\n",
      "weighted avg       0.90      0.90      0.90     75600\n",
      "\n"
     ]
    }
   ],
   "source": [
    "report = classification_report(y_test, y_pred_rf,target_names = ['Low_Risk','High_Risk'])\n",
    "print(report)\n"
   ]
  },
  {
   "cell_type": "code",
   "execution_count": 61,
   "id": "1600c0bd",
   "metadata": {},
   "outputs": [
    {
     "name": "stdout",
     "output_type": "stream",
     "text": [
      "Precision:- 0.5971860960037834\n",
      "Recall:- 0.5448171718261244\n",
      "F1-Score:- 0.5698008911952167\n"
     ]
    }
   ],
   "source": [
    "from sklearn.metrics import precision_score, recall_score, f1_score\n",
    "\n",
    "print(\"Precision:-\",precision_score(y_test,y_pred_rf))\n",
    "print(\"Recall:-\",recall_score(y_test,y_pred_rf))\n",
    "print(\"F1-Score:-\",f1_score(y_test,y_pred_rf))"
   ]
  },
  {
   "cell_type": "markdown",
   "id": "7e033162",
   "metadata": {},
   "source": [
    "- Hence,RandomForest Is the Model I have used for the problem.because it perform more better accuracy than other models.\n",
    "- RandomForest has the Descent Precision and Recall"
   ]
  },
  {
   "cell_type": "code",
   "execution_count": null,
   "id": "3a65a97d",
   "metadata": {},
   "outputs": [],
   "source": []
  },
  {
   "cell_type": "code",
   "execution_count": null,
   "id": "a131d65b",
   "metadata": {},
   "outputs": [],
   "source": []
  },
  {
   "cell_type": "code",
   "execution_count": null,
   "id": "183380e3",
   "metadata": {},
   "outputs": [],
   "source": []
  },
  {
   "cell_type": "code",
   "execution_count": null,
   "id": "f862cbf3",
   "metadata": {},
   "outputs": [],
   "source": []
  },
  {
   "cell_type": "code",
   "execution_count": null,
   "id": "1b1246ae",
   "metadata": {},
   "outputs": [],
   "source": []
  }
 ],
 "metadata": {
  "kernelspec": {
   "display_name": "Python 3 (ipykernel)",
   "language": "python",
   "name": "python3"
  },
  "language_info": {
   "codemirror_mode": {
    "name": "ipython",
    "version": 3
   },
   "file_extension": ".py",
   "mimetype": "text/x-python",
   "name": "python",
   "nbconvert_exporter": "python",
   "pygments_lexer": "ipython3",
   "version": "3.11.5"
  }
 },
 "nbformat": 4,
 "nbformat_minor": 5
}
